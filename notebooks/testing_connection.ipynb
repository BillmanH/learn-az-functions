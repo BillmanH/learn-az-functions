{
 "cells": [
  {
   "cell_type": "markdown",
   "metadata": {},
   "source": [
    "# Azure Digital Twins / Azure Functions integration in Python"
   ]
  },
  {
   "cell_type": "code",
   "execution_count": 7,
   "metadata": {},
   "outputs": [],
   "source": [
    "# Needed for this app\n",
    "from azure.digitaltwins.core import DigitalTwinsClient\n",
    "from azure.identity import EnvironmentCredential \n",
    "import os\n",
    "import yaml"
   ]
  },
  {
   "cell_type": "code",
   "execution_count": 12,
   "metadata": {},
   "outputs": [],
   "source": [
    "params = yaml.safe_load(open('..\\local.settings.json'))"
   ]
  },
  {
   "cell_type": "markdown",
   "metadata": {},
   "source": [
    "## Set the environment variables\n",
    "\n",
    "In my case, I needed to set the environemnt variables so I could use them in this notebook. However the `local.settings.json` should do this automatically when you execute the function in VSCode. I just did it here to troubleshoot. \n"
   ]
  },
  {
   "cell_type": "code",
   "execution_count": 22,
   "metadata": {},
   "outputs": [],
   "source": [
    "for i in params['Values'].keys():\n",
    "    os.environ[i] = params['Values'][i]"
   ]
  },
  {
   "cell_type": "code",
   "execution_count": 23,
   "metadata": {},
   "outputs": [],
   "source": [
    "credential = EnvironmentCredential()\n",
    "\n",
    "client = DigitalTwinsClient(params['Values']['AZURE_ADT_URL'], credential)"
   ]
  },
  {
   "cell_type": "markdown",
   "metadata": {},
   "source": [
    "Just checking that you get back any data at all."
   ]
  },
  {
   "cell_type": "code",
   "execution_count": 42,
   "metadata": {},
   "outputs": [],
   "source": [
    "query_expression = f\"\"\"\n",
    "    SELECT TOP (2)\n",
    "    FROM DigitalTwins T  \n",
    "\"\"\"\n",
    "\n",
    "query_result = client.query_twins(query_expression)       \n",
    "\n",
    "data = [i for i in query_result]\n"
   ]
  },
  {
   "cell_type": "code",
   "execution_count": 43,
   "metadata": {},
   "outputs": [],
   "source": [
    "query_expression = f\"\"\"\n",
    "    SELECT  *\n",
    "    FROM DigitalTwins T  \n",
    "    WHERE T.$dtId = 'branch-3d54a058-dc6c-4f8c-81ce-b880e0e67d4c'\n",
    "\"\"\"\n",
    "\n",
    "query_result = client.query_twins(query_expression)       \n",
    "data = [i for i in query_result]\n"
   ]
  },
  {
   "cell_type": "code",
   "execution_count": 44,
   "metadata": {},
   "outputs": [],
   "source": [
    "# data"
   ]
  },
  {
   "cell_type": "code",
   "execution_count": null,
   "metadata": {},
   "outputs": [],
   "source": []
  }
 ],
 "metadata": {
  "kernelspec": {
   "display_name": "Python 3.7.0 ('.venv': venv)",
   "language": "python",
   "name": "python3"
  },
  "language_info": {
   "codemirror_mode": {
    "name": "ipython",
    "version": 3
   },
   "file_extension": ".py",
   "mimetype": "text/x-python",
   "name": "python",
   "nbconvert_exporter": "python",
   "pygments_lexer": "ipython3",
   "version": "3.8.8"
  },
  "orig_nbformat": 4,
  "vscode": {
   "interpreter": {
    "hash": "c4325f9125ff7e762936ac29433dc5a77d962c4d966447d55ed83a4e7ad3537a"
   }
  }
 },
 "nbformat": 4,
 "nbformat_minor": 2
}
